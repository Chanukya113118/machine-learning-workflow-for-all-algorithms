{
 "cells": [
  {
   "cell_type": "markdown",
   "id": "5dfad4ff",
   "metadata": {},
   "source": [
    "#                      MACHINE LEARNING WORKFLOW FOR ALL ALGORITHMS"
   ]
  },
  {
   "cell_type": "raw",
   "id": "25708d1f",
   "metadata": {},
   "source": [
    "1)Importing required library to deal with models and datasets."
   ]
  },
  {
   "cell_type": "markdown",
   "id": "dae6320f",
   "metadata": {},
   "source": [
    "Pandas,\n",
    "Sklearn"
   ]
  },
  {
   "cell_type": "code",
   "execution_count": 1,
   "id": "c23b3f3c",
   "metadata": {},
   "outputs": [],
   "source": [
    "import pandas as pd\n",
    "import sklearn"
   ]
  },
  {
   "cell_type": "raw",
   "id": "63722ec3",
   "metadata": {},
   "source": [
    "2)Importing required dataset."
   ]
  },
  {
   "cell_type": "markdown",
   "id": "f68944c0",
   "metadata": {},
   "source": [
    "Reading dataset using pandas function read_csv for CSV type files and read_excel for Excel type files."
   ]
  },
  {
   "cell_type": "code",
   "execution_count": 4,
   "id": "26612e96",
   "metadata": {},
   "outputs": [],
   "source": [
    "file_path=''\n",
    "#data=pd.read_csv(file_path)\n",
    "#data=pd.read_excel(file_path)"
   ]
  },
  {
   "cell_type": "raw",
   "id": "2b87c4ea",
   "metadata": {},
   "source": [
    "3)Describing the dataset for better understanding in terms of it's basic stats(mean,median,count,quartiles) and also info function for missing values."
   ]
  },
  {
   "cell_type": "markdown",
   "id": "08c26bf6",
   "metadata": {},
   "source": [
    "Using pandas describe function for describing the dataset and info for missing values detailes."
   ]
  },
  {
   "cell_type": "code",
   "execution_count": 6,
   "id": "0825f994",
   "metadata": {},
   "outputs": [],
   "source": [
    "#data.describe()\n",
    "#data.info()"
   ]
  },
  {
   "cell_type": "raw",
   "id": "b78da600",
   "metadata": {},
   "source": [
    "4)(optional) If data contains missing values do fill it with mean or median or mode.\n",
    "Mean is used if data does not contain any outliers. Median is used when data contains outliers. Mode is used if data is of categorical values."
   ]
  },
  {
   "cell_type": "markdown",
   "id": "39c3cf0c",
   "metadata": {},
   "source": [
    "Fillna function from pandas helps to fill required values.\n",
    "Two ways to fill missing values\n",
    "1) Only required column."
   ]
  },
  {
   "cell_type": "markdown",
   "id": "e9594a46",
   "metadata": {},
   "source": [
    "2) All data at once"
   ]
  },
  {
   "cell_type": "code",
   "execution_count": 11,
   "id": "66b9ca23",
   "metadata": {},
   "outputs": [],
   "source": [
    "#col_miss_val=[]\n",
    "#data.fillna(method='')\n",
    "#data[[col_miss_val]].fillna(method='')"
   ]
  },
  {
   "cell_type": "raw",
   "id": "1e90da65",
   "metadata": {},
   "source": [
    "5) Choosing machine learning model based on requirement."
   ]
  },
  {
   "cell_type": "markdown",
   "id": "f5152a98",
   "metadata": {},
   "source": [
    "1)Classification- When data need to be classified or grouped into either of two groups."
   ]
  },
  {
   "cell_type": "markdown",
   "id": "aa7990dd",
   "metadata": {},
   "source": [
    "2)Regression- When we need to predict the future values using past data."
   ]
  },
  {
   "cell_type": "markdown",
   "id": "14b0f48e",
   "metadata": {},
   "source": [
    "3)Clustering- When data need to be grouped into more than two classes or groups."
   ]
  },
  {
   "cell_type": "code",
   "execution_count": 12,
   "id": "3de1e935",
   "metadata": {},
   "outputs": [],
   "source": [
    "#from sklearn.linear_model import LogisticRegression\n",
    "#from sklearn.linear_model import LinearRegression\n",
    "#from sklearn.cluster import AgglomerativeClustering"
   ]
  },
  {
   "cell_type": "raw",
   "id": "804c025e",
   "metadata": {},
   "source": [
    "6) Dividing the dataset into training,testing to teach machine learning algorith to learn and later \n",
    "helps us to classify,predict,cluster."
   ]
  },
  {
   "cell_type": "markdown",
   "id": "a90ba5c0",
   "metadata": {},
   "source": [
    "From sklearn package we use model selection class containing train_test_split function."
   ]
  },
  {
   "cell_type": "code",
   "execution_count": 15,
   "id": "56dafc26",
   "metadata": {},
   "outputs": [],
   "source": [
    "#dependent_var_y=[columns names]\n",
    "#dependent_var_x=[columns names]\n",
    "#x=data.drop(dependentvar_x)\n",
    "#y=data[dependent_var_y]\n",
    "#from sklearn.model_selection import train_test_split\n",
    "#x_train,x_test,y_train,y_test=train_test_split(x,y)"
   ]
  },
  {
   "cell_type": "raw",
   "id": "35490947",
   "metadata": {},
   "source": [
    "7) Training the model choosed with divided dataset."
   ]
  },
  {
   "cell_type": "markdown",
   "id": "099460d9",
   "metadata": {},
   "source": [
    "Store the model using var and fit it to the model to train."
   ]
  },
  {
   "cell_type": "code",
   "execution_count": 16,
   "id": "2ad6109c",
   "metadata": {},
   "outputs": [],
   "source": [
    "#linear_regression=LinearRegression()\n",
    "#logistic_regression=LogisticRegression()\n",
    "#agg_clustering=AgglomerativeClustering()"
   ]
  },
  {
   "cell_type": "code",
   "execution_count": 17,
   "id": "5713b8d6",
   "metadata": {},
   "outputs": [],
   "source": [
    "#var.fit(xtrain,ytrain)"
   ]
  },
  {
   "cell_type": "raw",
   "id": "c49d5e91",
   "metadata": {},
   "source": [
    "8)Testing the model."
   ]
  },
  {
   "cell_type": "markdown",
   "id": "4327b6a5",
   "metadata": {},
   "source": [
    "Score helps to tell us the percentage of correct a model can predict in the future."
   ]
  },
  {
   "cell_type": "code",
   "execution_count": 18,
   "id": "5f12dd00",
   "metadata": {},
   "outputs": [],
   "source": [
    "#var.score(xtest,ytest)"
   ]
  },
  {
   "cell_type": "raw",
   "id": "afeb05ea",
   "metadata": {},
   "source": [
    "Other concept that would help."
   ]
  },
  {
   "cell_type": "markdown",
   "id": "c569102d",
   "metadata": {},
   "source": [
    "Standard_Scaling, Normalizing, Correlation, Feature Engineering"
   ]
  },
  {
   "cell_type": "code",
   "execution_count": null,
   "id": "83daf753",
   "metadata": {},
   "outputs": [],
   "source": []
  }
 ],
 "metadata": {
  "kernelspec": {
   "display_name": "Python 3 (ipykernel)",
   "language": "python",
   "name": "python3"
  },
  "language_info": {
   "codemirror_mode": {
    "name": "ipython",
    "version": 3
   },
   "file_extension": ".py",
   "mimetype": "text/x-python",
   "name": "python",
   "nbconvert_exporter": "python",
   "pygments_lexer": "ipython3",
   "version": "3.9.7"
  }
 },
 "nbformat": 4,
 "nbformat_minor": 5
}
